{
  "nbformat": 4,
  "nbformat_minor": 0,
  "metadata": {
    "colab": {
      "provenance": [],
      "include_colab_link": true
    },
    "kernelspec": {
      "name": "python3",
      "display_name": "Python 3"
    },
    "language_info": {
      "name": "python"
    },
    "accelerator": "GPU",
    "gpuClass": "standard"
  },
  "cells": [
    {
      "cell_type": "markdown",
      "metadata": {
        "id": "view-in-github",
        "colab_type": "text"
      },
      "source": [
        "<a href=\"https://colab.research.google.com/github/xAleksandraKitlas/lab9/blob/main/lab9.ipynb\" target=\"_parent\"><img src=\"https://colab.research.google.com/assets/colab-badge.svg\" alt=\"Open In Colab\"/></a>"
      ]
    },
    {
      "cell_type": "markdown",
      "source": [
        "Najpierw wykonujemy instalacje środowiska"
      ],
      "metadata": {
        "id": "ZNPVd7oUl1NC"
      }
    },
    {
      "cell_type": "code",
      "source": [
        "!pip install git+https://github.com/andreinechaev/nvcc4jupyter.git\n",
        "%load_ext nvcc_plugin\n"
      ],
      "metadata": {
        "colab": {
          "base_uri": "https://localhost:8080/"
        },
        "id": "9f1tLOFI5zHW",
        "outputId": "d13ee7fb-54cb-4de3-e97f-222ac36dc1e8"
      },
      "execution_count": 2,
      "outputs": [
        {
          "output_type": "stream",
          "name": "stdout",
          "text": [
            "Looking in indexes: https://pypi.org/simple, https://us-python.pkg.dev/colab-wheels/public/simple/\n",
            "Collecting git+https://github.com/andreinechaev/nvcc4jupyter.git\n",
            "  Cloning https://github.com/andreinechaev/nvcc4jupyter.git to /tmp/pip-req-build-f9fh0ztg\n",
            "  Running command git clone --filter=blob:none --quiet https://github.com/andreinechaev/nvcc4jupyter.git /tmp/pip-req-build-f9fh0ztg\n",
            "  Resolved https://github.com/andreinechaev/nvcc4jupyter.git to commit aac710a35f52bb78ab34d2e52517237941399eff\n",
            "  Preparing metadata (setup.py) ... \u001b[?25l\u001b[?25hdone\n",
            "Building wheels for collected packages: NVCCPlugin\n",
            "  Building wheel for NVCCPlugin (setup.py) ... \u001b[?25l\u001b[?25hdone\n",
            "  Created wheel for NVCCPlugin: filename=NVCCPlugin-0.0.2-py3-none-any.whl size=4304 sha256=45b9c5f80d54b9e762862db748cdb1671b505d18a7d76034bf34f20fb457aca2\n",
            "  Stored in directory: /tmp/pip-ephem-wheel-cache-z8yhuqgw/wheels/f3/08/cc/e2b5b0e1c92df07dbb50a6f024a68ce090f5e7b2316b41756d\n",
            "Successfully built NVCCPlugin\n",
            "Installing collected packages: NVCCPlugin\n",
            "Successfully installed NVCCPlugin-0.0.2\n",
            "created output directory at /content/src\n",
            "Out bin /content/result.out\n"
          ]
        }
      ]
    },
    {
      "cell_type": "markdown",
      "source": [
        "**CPU**\n"
      ],
      "metadata": {
        "id": "jFly-4CHddE2"
      }
    },
    {
      "cell_type": "code",
      "source": [
        "%%cu\n",
        "#include <stdio.h>\n",
        "// wartosc DIM ktora zmieniamy, zeby sprawdzic szybkosc\n",
        "#define DIM 512\n",
        "#define rnd( x ) (x * rand() / RAND_MAX)\n",
        "#define INF 2e10f\n",
        "\n",
        "//struktura przechowujaca sfere\n",
        "struct Sphere {\n",
        "    float   r,b,g;\n",
        "    float   radius;\n",
        "    float   x,y,z;\n",
        "    float hit( float ox, float oy, float *n ) {\n",
        "      float dx = ox - x;\n",
        "      float dy = oy - y;\n",
        "      if (dx*dx + dy*dy < radius*radius) {\n",
        "        float dz = sqrtf( radius*radius - dx*dx - dy*dy );\n",
        "        *n = dz / sqrtf( radius * radius );\n",
        "        return dz + z;\n",
        "      }\n",
        "      return -INF;\n",
        "    }\n",
        "};\n",
        "\n",
        "//ilosc sfer\n",
        "#define SPHERES 20\n",
        "\n",
        "//glowna funkcja wykonujaca obliczenia\n",
        "void glownaFunkcja( Sphere *s, unsigned char *ptr, int x , int y ) {\n",
        "    // map from threadIdx/BlockIdx to pixel position\n",
        "    int offset = x + y * DIM;\n",
        "    float   ox = (x - DIM/2);\n",
        "    float   oy = (y - DIM/2);\n",
        "  \n",
        "    float   r=0, g=0, b=0;\n",
        "    float   maxz = -INF;\n",
        "    for(int i=0; i<SPHERES; i++) {\n",
        "        float   n;\n",
        "        float   t = s[i].hit( ox, oy, &n );\n",
        "        if (t > maxz) {\n",
        "          float fscale = n;\n",
        "          r = s[i].r * fscale;\n",
        "          g = s[i].g * fscale;\n",
        "          b = s[i].b * fscale;\n",
        "          maxz = t;\n",
        "        }\n",
        "    } \n",
        "\n",
        "    ptr[offset*4 + 0] = (int)(r * 255);\n",
        "    ptr[offset*4 + 1] = (int)(g * 255);\n",
        "    ptr[offset*4 + 2] = (int)(b * 255);\n",
        "    ptr[offset*4 + 3] = 255;\n",
        "}\n",
        "\n",
        "struct DataBlock{\n",
        "    unsigned char *dev_bitmap;\n",
        "};\n",
        "\n",
        "void save_to_file(unsigned char *ptr){\n",
        "  FILE *fp=fopen(\"CPU_reyTraced.ppm\",\"w\");\n",
        "  fprintf(fp,\"P3\\n%d %d\\n255\\n\", DIM, DIM);\n",
        "  for(int y=0;y<DIM;y++){\n",
        "    for(int x=0;x<DIM;x++){\n",
        "      int offset=x+y*DIM;\n",
        "      fprintf(fp,\"\\n%d %d %d\", ptr[offset*4+0], ptr[offset*4+1], ptr[offset*4+2]);\n",
        "    }\n",
        "  }\n",
        "  fclose(fp);\n",
        "}\n",
        "\n",
        "\n",
        "int main(void) {\n",
        "  \n",
        "  clock_t start, end;\n",
        "  start = clock();\n",
        "  \n",
        "  DataBlock data;\n",
        "  unsigned char *bitmap = (unsigned char*)malloc(DIM* DIM*4* sizeof(unsigned char));\n",
        "  int image_size = DIM* DIM*4;\n",
        "  Sphere *s;\n",
        "\n",
        "  Sphere *temp_s = (Sphere*)malloc(sizeof(Sphere)* SPHERES );\n",
        "\n",
        "  for (int i=0; i<SPHERES; i++) {\n",
        "    temp_s[i].r = rnd( 1.0f);\n",
        "    temp_s[i].g= rnd( 1.0f);\n",
        "    temp_s[1].b= rnd( 1.0f);\n",
        "    temp_s[i].x =rnd( 1000.0f)- 500;\n",
        "    temp_s[i].y =rnd( 1000.0f) - 500;\n",
        "    temp_s[1].z = rnd( 1000.0f) - 500;\n",
        "    temp_s[i].radius = rnd( 100.0f) + 20;\n",
        "  }\n",
        "\n",
        "  s = temp_s;\n",
        "  \n",
        "  //tutaj zapisujemy do pliku\n",
        "  for (int i=0; i<DIM; i++) {\n",
        "    for (int j=0; j<DIM; j++) {\n",
        "     glownaFunkcja(s, bitmap, i, j);\n",
        "    }\n",
        "  }\n",
        "\n",
        "  save_to_file(bitmap);\n",
        "  \n",
        "  //liczymy czas\n",
        "  end = clock();\n",
        "  double elapsed_time = (double)(end - start) / CLOCKS_PER_SEC;\n",
        "  printf(\"Compilation time: %f miliseconds\\n\", elapsed_time*1000);\n",
        "\n",
        "}"
      ],
      "metadata": {
        "colab": {
          "base_uri": "https://localhost:8080/"
        },
        "id": "IBg0ugG7WT5c",
        "outputId": "8115c25b-ccac-4106-a53f-fae64cca9228"
      },
      "execution_count": null,
      "outputs": [
        {
          "output_type": "stream",
          "name": "stdout",
          "text": [
            "Compilation time: 84.563000 miliseconds\n",
            "\n"
          ]
        }
      ]
    },
    {
      "cell_type": "markdown",
      "source": [
        "**GPU**"
      ],
      "metadata": {
        "id": "Fv3zkX49lPWK"
      }
    },
    {
      "cell_type": "code",
      "source": [
        "%%cu\n",
        "#include <stdio.h>\n",
        "\n",
        "// wartosc DIM ktora zmieniamy, zeby sprawdzic szybkosc\n",
        "#define DIM 2048\n",
        "#define rnd( x ) (x * rand() / RAND_MAX)\n",
        "#define INF     2e10f\n",
        "\n",
        "// Struktura przechowująca naszą sfere\n",
        "struct Sphere {\n",
        "    float r, b, g;\n",
        "    float radius;\n",
        "    float x, y, z;\n",
        "    __device__ float hit(float ox, float oy, float *n) {\n",
        "        float dx = ox - x;\n",
        "        float dy = oy - y; \n",
        "        if (dx*dx + dy* dy < radius * radius) {\n",
        "            float dz = sqrtf( radius * radius - dx*dx - dy*dy );\n",
        "            *n = dz / sqrtf ( radius * radius );\n",
        "            return dz + z;\n",
        "        }\n",
        "        return -INF;\n",
        "    }\n",
        "};\n",
        "// ilosc SFER\n",
        "#define SPHERES 20\n",
        "\n",
        "//funkcja o nazwie kernel() z kwalifikatorem __global__ - informuje on\n",
        "//kompilator o tym, że dana funkcja powinna zostać skompilowana dla\n",
        "//urządzenia a nie hosta\n",
        "__global__ void kernel (Sphere *s, unsigned char *ptr) {\n",
        "    int x = threadIdx.x + blockIdx.x * blockDim.x;\n",
        "    int y = threadIdx.y + blockIdx.y * blockDim.y;\n",
        "    int offset = x + y * blockDim.x * gridDim.x;\n",
        "    float ox = (x - DIM/2);\n",
        "    float oy = (y - DIM/2);\n",
        "\n",
        "    float r=0, g=0, b=0;\n",
        "    float maxz = -INF;\n",
        "    for(int i =0; i<SPHERES; i++) {\n",
        "        float n;\n",
        "        float t = s[i].hit( ox, oy, &n );\n",
        "        if (t > maxz) {\n",
        "            float fscale = n;\n",
        "            r = s[i].r * fscale;\n",
        "            g = s[i].g * fscale;\n",
        "            b = s[i].b * fscale;\n",
        "            maxz = t;\n",
        "        }\n",
        "    }\n",
        "    ptr[offset*4 + 0] = (int)(r * 255);\n",
        "    ptr[offset*4 + 1] = (int)(g * 255);\n",
        "    ptr[offset*4 + 2] = (int)(b * 255);\n",
        "    ptr[offset*4 + 3] = 255;\n",
        "}\n",
        "\n",
        "struct DataBlock{\n",
        "    unsigned char *dev_bitmap;\n",
        "};\n",
        "\n",
        "//funkcja która zapisuje wartości rgb do pliku tekstowego\n",
        "void save_to_file(unsigned char *ptr) {\n",
        "    FILE *fp = fopen(\"ballz.txt\",\"w\");\n",
        "    for(int y =0; y<DIM; y++){\n",
        "        for (int x =0; x<DIM; x++){\n",
        "            int offset = x+y*DIM;\n",
        "            fprintf(fp, \"\\n%d, %d, %d, %d\", ptr[offset*4+0], ptr[offset*4+1],ptr[offset*4+2],ptr[offset*4+3]);\n",
        "        }\n",
        "    }\n",
        "    fclose(fp);\n",
        "}\n",
        "\n",
        "int main( void ) {\n",
        "    cudaEvent_t start, stop;\n",
        "    cudaEventCreate (&start);\n",
        "    cudaEventCreate (&stop);\n",
        "    cudaEventRecord( start, 0);\n",
        "\n",
        "    DataBlock data;\n",
        "    unsigned char *bitmap = (unsigned char*)malloc(DIM*DIM*4*sizeof(unsigned char));\n",
        "    int image_size = DIM*DIM*4;\n",
        "    unsigned char *dev_bitmap;\n",
        "\n",
        "    cudaMalloc((void**)&dev_bitmap, image_size);\n",
        "    data.dev_bitmap=dev_bitmap;\n",
        "    Sphere *s;\n",
        "\n",
        "    cudaMalloc((void**)&s, sizeof(Sphere) * SPHERES);\n",
        "    Sphere *temp_s = (Sphere*)malloc( sizeof(Sphere) * SPHERES);\n",
        "    for (int i = 0; i<SPHERES; i++) {\n",
        "        temp_s[i].r = rnd ( 1.0f );\n",
        "        temp_s[i].g = rnd ( 1.0f );\n",
        "        temp_s[i].b = rnd ( 1.0f );\n",
        "        temp_s[i].x = rnd( 1000.0f ) - 500;\n",
        "        temp_s[i].y = rnd( 1000.0f ) - 500;\n",
        "        temp_s[i].z = rnd( 1000.0f ) - 500;\n",
        "        temp_s[i].radius = rnd(100.0f) + 20;\n",
        "    }\n",
        "    cudaMemcpy( s, temp_s, sizeof(Sphere) * SPHERES, cudaMemcpyHostToDevice );\n",
        "    free (temp_s );\n",
        "    \n",
        "\n",
        "    // tutaj zapisujemy nasza bitmape do pliku txt\n",
        "    dim3 grids(DIM/16, DIM/16);\n",
        "    dim3 threads(16,16);\n",
        "    kernel<<<grids, threads>>>(s, dev_bitmap);\n",
        "    cudaMemcpy(bitmap, dev_bitmap, image_size, cudaMemcpyDeviceToHost);\n",
        "    cudaEventRecord( stop, 0 );\n",
        "    cudaEventSynchronize(stop);\n",
        "    float elapsedTime;\n",
        "    cudaEventElapsedTime ( &elapsedTime, start, stop);\n",
        "    printf( \"Time to generate: %3.1f ms\\n\", elapsedTime );\n",
        "\n",
        "    cudaEventDestroy( start );\n",
        "    cudaEventDestroy (stop);\n",
        "    cudaFree( dev_bitmap );\n",
        "    cudaFree( s );\n",
        "\n",
        "    save_to_file(bitmap);\n",
        "\n",
        "}\n"
      ],
      "metadata": {
        "id": "W8GIeQVKyEdN",
        "colab": {
          "base_uri": "https://localhost:8080/"
        },
        "outputId": "86839eb0-0618-48ac-d413-a6c4b6a2af37"
      },
      "execution_count": 6,
      "outputs": [
        {
          "output_type": "stream",
          "name": "stdout",
          "text": [
            "Time to generate: 7.3 ms\n",
            "\n"
          ]
        }
      ]
    },
    {
      "cell_type": "markdown",
      "source": [
        "Zmieniałam wymiary ręcznie w obu wypadkach: <br>\n",
        "DIM 512<br>\n",
        "Czas wykonania programu na CPU: 84.56 milisekund<br>\n",
        "Czas wykonania programu na GPU: 0.677428 milisekund <br>\n",
        "DIM 1024 <br>\n",
        "Czas wykonania programu na CPU: 373.26 milisekund <br>\n",
        "Czas wykonania programu na GPU: 1.7<br>\n",
        "DIM 2048 <br>\n",
        "Czas wykonania programu na CPU: 1438.9 milisekund <br>\n",
        "Czas wykonania programu na GPU: 7.5 milisekund <br>\n",
        "DIM 4096<br>\n",
        "Czas wykonania programu na CPU: 5796.87 milisekund <br>\n",
        "Czas wykonania programu na GPU: 45.5 milisekund <br>\n"
      ],
      "metadata": {
        "id": "468lei-stW8q"
      }
    },
    {
      "cell_type": "markdown",
      "source": [
        "**WYKRES**"
      ],
      "metadata": {
        "id": "FXr_NOpMvvFI"
      }
    },
    {
      "cell_type": "code",
      "source": [
        "%matplotlib inline\n",
        "import matplotlib\n",
        "import matplotlib.pyplot as plt\n",
        "import pandas as pd\n",
        "\n",
        "# tablice z czasami CPU, GPU i badanymi DIM\n",
        "timeCPU = [84.56, 373.26, 1438.9, 5796.87]\n",
        "timeGPU = [0.677428, 1.7, 7.5, 45.5]\n",
        "DIM = [512, 1024, 2048, 4096]\n",
        "# tutaj rysujemy wykresy za pomoca matplotlib\n",
        "plt.plot(DIM, timeGPU, label = \"GPU\")\n",
        "plt.plot(DIM, timeCPU, label = \"CPU\")\n",
        "plt.ylabel(\"ms\")\n",
        "plt.xlabel(\"dim\")\n",
        "plt.legend()\n",
        "plt.show()"
      ],
      "metadata": {
        "colab": {
          "base_uri": "https://localhost:8080/",
          "height": 280
        },
        "id": "w8pwJQxMvyJN",
        "outputId": "fe4c24a0-1d4a-4fb3-e999-dedbb4c8fcd3"
      },
      "execution_count": null,
      "outputs": [
        {
          "output_type": "display_data",
          "data": {
            "text/plain": [
              "<Figure size 432x288 with 1 Axes>"
            ],
            "image/png": "[encoded data removed]"
          },
          "metadata": {
            "needs_background": "light"
          }
        }
      ]
    },
    {
      "cell_type": "markdown",
      "source": [
        "**WNIOSKI**<br>\n",
        "jak widać czas wykonania na GPU jest o wiele szybszy i bardziej liniowy niz czas wykonania na CPU. <br>\n",
        "Widzimy znaczącą poprawę czasu używając CUDA."
      ],
      "metadata": {
        "id": "LnfTIEENbuu6"
      }
    }
  ]
}